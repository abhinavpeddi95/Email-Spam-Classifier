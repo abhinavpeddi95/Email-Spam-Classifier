{
 "cells": [
  {
   "cell_type": "markdown",
   "metadata": {
    "id": "8O1txzgwyJCs"
   },
   "source": [
    "\n",
    "\n",
    "\n",
    "\n",
    "\n",
    "\n",
    "### PROBLEM STATEMENT- Email Spam Classifier\n",
    "\n",
    "\n",
    "In this assignment, we'll build a SVM classifier to classify emails into spam and ham. The dataset, taken from the UCI ML repository, contains about 4600 emails labelled as **spam** or **ham**. \n",
    "\n",
    "\n",
    "\n"
   ]
  },
  {
   "cell_type": "code",
   "execution_count": 65,
   "metadata": {
    "id": "LivG4H6NyJCy"
   },
   "outputs": [],
   "source": [
    "#importing necessary libraries\n",
    "import pandas as pd\n",
    "import numpy as np\n",
    "import matplotlib.pyplot as plt\n",
    "import seaborn as sns\n",
    "from sklearn import metrics\n",
    "from sklearn.preprocessing import StandardScaler\n",
    "from sklearn.metrics import confusion_matrix\n",
    "from sklearn.model_selection import validation_curve, train_test_split, KFold, cross_val_score, GridSearchCV\n",
    "from sklearn.metrics import ConfusionMatrixDisplay\n",
    "from sklearn.svm import SVC\n",
    "%matplotlib inline"
   ]
  },
  {
   "cell_type": "code",
   "execution_count": 30,
   "metadata": {
    "id": "f_eF4Ny6yJC0"
   },
   "outputs": [],
   "source": [
    "# loading the data\n",
    "email_rec = pd.read_csv(\"C:\\\\Users\\\\AbhinavPeddi\\\\datasets\\\\Spam.csv\" )"
   ]
  },
  {
   "cell_type": "code",
   "execution_count": 31,
   "metadata": {
    "id": "U33HppyxyJC0",
    "outputId": "711074cd-8b66-4f39-a485-d5c16cd3e70d"
   },
   "outputs": [
    {
     "name": "stdout",
     "output_type": "stream",
     "text": [
      "   word_freq_make  word_freq_address  word_freq_all  word_freq_3d  \\\n",
      "0            0.00               0.64           0.64           0.0   \n",
      "1            0.21               0.28           0.50           0.0   \n",
      "2            0.06               0.00           0.71           0.0   \n",
      "3            0.00               0.00           0.00           0.0   \n",
      "4            0.00               0.00           0.00           0.0   \n",
      "\n",
      "   word_freq_our  word_freq_over  word_freq_remove  word_freq_internet  \\\n",
      "0           0.32            0.00              0.00                0.00   \n",
      "1           0.14            0.28              0.21                0.07   \n",
      "2           1.23            0.19              0.19                0.12   \n",
      "3           0.63            0.00              0.31                0.63   \n",
      "4           0.63            0.00              0.31                0.63   \n",
      "\n",
      "   word_freq_order  word_freq_mail  ...  char_freq_;  char_freq_(  \\\n",
      "0             0.00            0.00  ...         0.00        0.000   \n",
      "1             0.00            0.94  ...         0.00        0.132   \n",
      "2             0.64            0.25  ...         0.01        0.143   \n",
      "3             0.31            0.63  ...         0.00        0.137   \n",
      "4             0.31            0.63  ...         0.00        0.135   \n",
      "\n",
      "   char_freq_[  char_freq_!  char_freq_$  char_freq_hash  \\\n",
      "0          0.0        0.778        0.000           0.000   \n",
      "1          0.0        0.372        0.180           0.048   \n",
      "2          0.0        0.276        0.184           0.010   \n",
      "3          0.0        0.137        0.000           0.000   \n",
      "4          0.0        0.135        0.000           0.000   \n",
      "\n",
      "   capital_run_length_average  capital_run_length_longest  \\\n",
      "0                       3.756                          61   \n",
      "1                       5.114                         101   \n",
      "2                       9.821                         485   \n",
      "3                       3.537                          40   \n",
      "4                       3.537                          40   \n",
      "\n",
      "   capital_run_length_total  spam  \n",
      "0                       278     1  \n",
      "1                      1028     1  \n",
      "2                      2259     1  \n",
      "3                       191     1  \n",
      "4                       191     1  \n",
      "\n",
      "[5 rows x 58 columns]\n"
     ]
    }
   ],
   "source": [
    "#print email_rec\n",
    "print(email_rec.head())"
   ]
  },
  {
   "cell_type": "code",
   "execution_count": 32,
   "metadata": {
    "id": "IfFnPE62yJC3",
    "outputId": "babf2d47-8e81-4075-c5a1-a57f837e14fe"
   },
   "outputs": [
    {
     "name": "stdout",
     "output_type": "stream",
     "text": [
      "(4601, 58)\n"
     ]
    }
   ],
   "source": [
    "# Dimensions of the DataFrame\n",
    "print(email_rec.shape)"
   ]
  },
  {
   "cell_type": "code",
   "execution_count": 33,
   "metadata": {
    "id": "Ql5mxwMuyJC4",
    "outputId": "6bd78518-f91f-42fc-930c-c39239a93cbb"
   },
   "outputs": [
    {
     "name": "stdout",
     "output_type": "stream",
     "text": [
      "<class 'pandas.core.frame.DataFrame'>\n",
      "RangeIndex: 4601 entries, 0 to 4600\n",
      "Data columns (total 58 columns):\n",
      " #   Column                      Non-Null Count  Dtype  \n",
      "---  ------                      --------------  -----  \n",
      " 0   word_freq_make              4601 non-null   float64\n",
      " 1   word_freq_address           4601 non-null   float64\n",
      " 2   word_freq_all               4601 non-null   float64\n",
      " 3   word_freq_3d                4601 non-null   float64\n",
      " 4   word_freq_our               4601 non-null   float64\n",
      " 5   word_freq_over              4601 non-null   float64\n",
      " 6   word_freq_remove            4601 non-null   float64\n",
      " 7   word_freq_internet          4601 non-null   float64\n",
      " 8   word_freq_order             4601 non-null   float64\n",
      " 9   word_freq_mail              4601 non-null   float64\n",
      " 10  word_freq_receive           4601 non-null   float64\n",
      " 11  word_freq_will              4601 non-null   float64\n",
      " 12  word_freq_people            4601 non-null   float64\n",
      " 13  word_freq_report            4601 non-null   float64\n",
      " 14  word_freq_addresses         4601 non-null   float64\n",
      " 15  word_freq_free              4601 non-null   float64\n",
      " 16  word_freq_business          4601 non-null   float64\n",
      " 17  word_freq_email             4601 non-null   float64\n",
      " 18  word_freq_you               4601 non-null   float64\n",
      " 19  word_freq_credit            4601 non-null   float64\n",
      " 20  word_freq_your              4601 non-null   float64\n",
      " 21  word_freq_font              4601 non-null   float64\n",
      " 22  word_freq_000               4601 non-null   float64\n",
      " 23  word_freq_money             4601 non-null   float64\n",
      " 24  word_freq_hp                4601 non-null   float64\n",
      " 25  word_freq_hpl               4601 non-null   float64\n",
      " 26  word_freq_george            4601 non-null   float64\n",
      " 27  word_freq_650               4601 non-null   float64\n",
      " 28  word_freq_lab               4601 non-null   float64\n",
      " 29  word_freq_labs              4601 non-null   float64\n",
      " 30  word_freq_telnet            4601 non-null   float64\n",
      " 31  word_freq_857               4601 non-null   float64\n",
      " 32  word_freq_data              4601 non-null   float64\n",
      " 33  word_freq_415               4601 non-null   float64\n",
      " 34  word_freq_85                4601 non-null   float64\n",
      " 35  word_freq_technology        4601 non-null   float64\n",
      " 36  word_freq_1999              4601 non-null   float64\n",
      " 37  word_freq_parts             4601 non-null   float64\n",
      " 38  word_freq_pm                4601 non-null   float64\n",
      " 39  word_freq_direct            4601 non-null   float64\n",
      " 40  word_freq_cs                4601 non-null   float64\n",
      " 41  word_freq_meeting           4601 non-null   float64\n",
      " 42  word_freq_original          4601 non-null   float64\n",
      " 43  word_freq_project           4601 non-null   float64\n",
      " 44  word_freq_re                4601 non-null   float64\n",
      " 45  word_freq_edu               4601 non-null   float64\n",
      " 46  word_freq_table             4601 non-null   float64\n",
      " 47  word_freq_conference        4601 non-null   float64\n",
      " 48  char_freq_;                 4601 non-null   float64\n",
      " 49  char_freq_(                 4601 non-null   float64\n",
      " 50  char_freq_[                 4601 non-null   float64\n",
      " 51  char_freq_!                 4601 non-null   float64\n",
      " 52  char_freq_$                 4601 non-null   float64\n",
      " 53  char_freq_hash              4601 non-null   float64\n",
      " 54  capital_run_length_average  4601 non-null   float64\n",
      " 55  capital_run_length_longest  4601 non-null   int64  \n",
      " 56  capital_run_length_total    4601 non-null   int64  \n",
      " 57  spam                        4601 non-null   int64  \n",
      "dtypes: float64(55), int64(3)\n",
      "memory usage: 2.0 MB\n",
      "None\n"
     ]
    }
   ],
   "source": [
    "# Check data type information\n",
    "print(email_rec.info())"
   ]
  },
  {
   "cell_type": "code",
   "execution_count": 34,
   "metadata": {
    "id": "oJHVuYrvyJC4",
    "outputId": "d7f902f1-e80a-46f5-da69-ff427c947822"
   },
   "outputs": [
    {
     "name": "stdout",
     "output_type": "stream",
     "text": [
      "word_freq_make                0\n",
      "word_freq_address             0\n",
      "word_freq_all                 0\n",
      "word_freq_3d                  0\n",
      "word_freq_our                 0\n",
      "word_freq_over                0\n",
      "word_freq_remove              0\n",
      "word_freq_internet            0\n",
      "word_freq_order               0\n",
      "word_freq_mail                0\n",
      "word_freq_receive             0\n",
      "word_freq_will                0\n",
      "word_freq_people              0\n",
      "word_freq_report              0\n",
      "word_freq_addresses           0\n",
      "word_freq_free                0\n",
      "word_freq_business            0\n",
      "word_freq_email               0\n",
      "word_freq_you                 0\n",
      "word_freq_credit              0\n",
      "word_freq_your                0\n",
      "word_freq_font                0\n",
      "word_freq_000                 0\n",
      "word_freq_money               0\n",
      "word_freq_hp                  0\n",
      "word_freq_hpl                 0\n",
      "word_freq_george              0\n",
      "word_freq_650                 0\n",
      "word_freq_lab                 0\n",
      "word_freq_labs                0\n",
      "word_freq_telnet              0\n",
      "word_freq_857                 0\n",
      "word_freq_data                0\n",
      "word_freq_415                 0\n",
      "word_freq_85                  0\n",
      "word_freq_technology          0\n",
      "word_freq_1999                0\n",
      "word_freq_parts               0\n",
      "word_freq_pm                  0\n",
      "word_freq_direct              0\n",
      "word_freq_cs                  0\n",
      "word_freq_meeting             0\n",
      "word_freq_original            0\n",
      "word_freq_project             0\n",
      "word_freq_re                  0\n",
      "word_freq_edu                 0\n",
      "word_freq_table               0\n",
      "word_freq_conference          0\n",
      "char_freq_;                   0\n",
      "char_freq_(                   0\n",
      "char_freq_[                   0\n",
      "char_freq_!                   0\n",
      "char_freq_$                   0\n",
      "char_freq_hash                0\n",
      "capital_run_length_average    0\n",
      "capital_run_length_longest    0\n",
      "capital_run_length_total      0\n",
      "spam                          0\n",
      "dtype: int64\n"
     ]
    }
   ],
   "source": [
    "#Check if any missing values in the dataset \n",
    "print(email_rec.isna().sum())"
   ]
  },
  {
   "cell_type": "markdown",
   "metadata": {
    "id": "cO_FzLwcyJC5"
   },
   "source": [
    "Let's also look at the fraction of spam and ham emails in the dataset."
   ]
  },
  {
   "cell_type": "code",
   "execution_count": 40,
   "metadata": {
    "id": "1n7B_MwvyJC5",
    "outputId": "dcf41448-cb42-49ab-afba-24a89c43bc36"
   },
   "outputs": [
    {
     "name": "stdout",
     "output_type": "stream",
     "text": [
      "0    60.595523\n",
      "1    39.404477\n",
      "Name: spam, dtype: float64\n"
     ]
    }
   ],
   "source": [
    "# look at fraction of spam emails \n",
    "print(email_rec['spam'].value_counts()/ len(email_rec['spam'])*100)"
   ]
  },
  {
   "cell_type": "markdown",
   "metadata": {
    "id": "a5DFY1DiyJC5"
   },
   "source": [
    "You can see that we have 40% of spam mails and 60% of ham"
   ]
  },
  {
   "cell_type": "code",
   "execution_count": 42,
   "metadata": {
    "id": "JDcadleRyJC6",
    "outputId": "e825abbc-0672-42fe-efde-80b6dd3e4664"
   },
   "outputs": [
    {
     "name": "stdout",
     "output_type": "stream",
     "text": [
      "       word_freq_make  word_freq_address  word_freq_all  word_freq_3d  \\\n",
      "count     4601.000000        4601.000000    4601.000000   4601.000000   \n",
      "mean         0.104553           0.213015       0.280656      0.065425   \n",
      "std          0.305358           1.290575       0.504143      1.395151   \n",
      "min          0.000000           0.000000       0.000000      0.000000   \n",
      "25%          0.000000           0.000000       0.000000      0.000000   \n",
      "50%          0.000000           0.000000       0.000000      0.000000   \n",
      "75%          0.000000           0.000000       0.420000      0.000000   \n",
      "max          4.540000          14.280000       5.100000     42.810000   \n",
      "\n",
      "       word_freq_our  word_freq_over  word_freq_remove  word_freq_internet  \\\n",
      "count    4601.000000     4601.000000       4601.000000         4601.000000   \n",
      "mean        0.312223        0.095901          0.114208            0.105295   \n",
      "std         0.672513        0.273824          0.391441            0.401071   \n",
      "min         0.000000        0.000000          0.000000            0.000000   \n",
      "25%         0.000000        0.000000          0.000000            0.000000   \n",
      "50%         0.000000        0.000000          0.000000            0.000000   \n",
      "75%         0.380000        0.000000          0.000000            0.000000   \n",
      "max        10.000000        5.880000          7.270000           11.110000   \n",
      "\n",
      "       word_freq_order  word_freq_mail  ...  char_freq_;  char_freq_(  \\\n",
      "count      4601.000000     4601.000000  ...  4601.000000  4601.000000   \n",
      "mean          0.090067        0.239413  ...     0.038575     0.139030   \n",
      "std           0.278616        0.644755  ...     0.243471     0.270355   \n",
      "min           0.000000        0.000000  ...     0.000000     0.000000   \n",
      "25%           0.000000        0.000000  ...     0.000000     0.000000   \n",
      "50%           0.000000        0.000000  ...     0.000000     0.065000   \n",
      "75%           0.000000        0.160000  ...     0.000000     0.188000   \n",
      "max           5.260000       18.180000  ...     4.385000     9.752000   \n",
      "\n",
      "       char_freq_[  char_freq_!  char_freq_$  char_freq_hash  \\\n",
      "count  4601.000000  4601.000000  4601.000000     4601.000000   \n",
      "mean      0.016976     0.269071     0.075811        0.044238   \n",
      "std       0.109394     0.815672     0.245882        0.429342   \n",
      "min       0.000000     0.000000     0.000000        0.000000   \n",
      "25%       0.000000     0.000000     0.000000        0.000000   \n",
      "50%       0.000000     0.000000     0.000000        0.000000   \n",
      "75%       0.000000     0.315000     0.052000        0.000000   \n",
      "max       4.081000    32.478000     6.003000       19.829000   \n",
      "\n",
      "       capital_run_length_average  capital_run_length_longest  \\\n",
      "count                 4601.000000                 4601.000000   \n",
      "mean                     5.191515                   52.172789   \n",
      "std                     31.729449                  194.891310   \n",
      "min                      1.000000                    1.000000   \n",
      "25%                      1.588000                    6.000000   \n",
      "50%                      2.276000                   15.000000   \n",
      "75%                      3.706000                   43.000000   \n",
      "max                   1102.500000                 9989.000000   \n",
      "\n",
      "       capital_run_length_total         spam  \n",
      "count               4601.000000  4601.000000  \n",
      "mean                 283.289285     0.394045  \n",
      "std                  606.347851     0.488698  \n",
      "min                    1.000000     0.000000  \n",
      "25%                   35.000000     0.000000  \n",
      "50%                   95.000000     0.000000  \n",
      "75%                  266.000000     1.000000  \n",
      "max                15841.000000     1.000000  \n",
      "\n",
      "[8 rows x 58 columns]\n"
     ]
    }
   ],
   "source": [
    "#  print the summary stats of all columns\n",
    "print(email_rec.describe())"
   ]
  },
  {
   "cell_type": "code",
   "execution_count": 46,
   "metadata": {
    "id": "4UfxpR-FyJC6"
   },
   "outputs": [],
   "source": [
    "# splitting data into X (having all features) and y (having target i.e spam)\n",
    "X = email_rec.drop('spam', axis=1)\n",
    "\n",
    "y = email_rec['spam']"
   ]
  },
  {
   "cell_type": "markdown",
   "metadata": {
    "id": "AtC0i1eIyJC6"
   },
   "source": [
    "#### Scaling the features\n",
    "\n",
    "We will Standardize features by removing the mean and scaling to unit variance\n",
    "\n",
    "The standard score of a sample x is calculated as:\n",
    "\n",
    "x = x-mean(x)/std(x)\n",
    "\n",
    "\n",
    "\n"
   ]
  },
  {
   "cell_type": "code",
   "execution_count": 47,
   "metadata": {
    "id": "6feE2dPByJC7"
   },
   "outputs": [],
   "source": [
    "# Instantiate StandardScaler\n",
    "scaler = StandardScaler()\n",
    "\n",
    "#fit and transform X\n",
    "X= scaler.fit_transform(X)\n"
   ]
  },
  {
   "cell_type": "code",
   "execution_count": 48,
   "metadata": {
    "id": "IaxKzIt7yJC7"
   },
   "outputs": [],
   "source": [
    "# split into train and test with test_size as 30% and random_state as 4\n",
    "X_train, X_test, y_train, y_test = train_test_split(X, y, test_size=0.3, random_state=4)"
   ]
  },
  {
   "cell_type": "markdown",
   "metadata": {
    "id": "tSZN-XHNyJC7"
   },
   "source": [
    "## Model Building\n",
    "\n"
   ]
  },
  {
   "cell_type": "markdown",
   "metadata": {
    "id": "_xdZH47cyJC7"
   },
   "source": [
    "### Model building\n",
    "\n",
    "Firstly using the default kernal i.e RBF"
   ]
  },
  {
   "cell_type": "code",
   "execution_count": 51,
   "metadata": {
    "id": "r-EEbokUyJC8"
   },
   "outputs": [],
   "source": [
    "# Instantiate an object of class SVC(), using cost C=1\n",
    "model = SVC(C=1)\n",
    "# fit model on training data\n",
    "model.fit(X_train, y_train)\n",
    "# predict on test data\n",
    "y_pred_rbf = model.predict(X_test)"
   ]
  },
  {
   "cell_type": "markdown",
   "metadata": {
    "id": "R3YbYkG6yJC8"
   },
   "source": [
    "##### Evaluate the model using confusion matrix \n"
   ]
  },
  {
   "cell_type": "markdown",
   "metadata": {
    "id": "UW59fZh5yJC8"
   },
   "source": [
    "#### Print other metrics"
   ]
  },
  {
   "cell_type": "code",
   "execution_count": 62,
   "metadata": {},
   "outputs": [
    {
     "name": "stdout",
     "output_type": "stream",
     "text": [
      "92.83128167994207\n"
     ]
    }
   ],
   "source": [
    "#print accuracy_score\n",
    "print(metrics.accuracy_score(y_test, y_pred_rbf)*100)"
   ]
  },
  {
   "cell_type": "code",
   "execution_count": null,
   "metadata": {
    "id": "g9JR5wswyJC8",
    "outputId": "032741de-9563-4543-a335-bde71d6af1f4"
   },
   "outputs": [
    {
     "name": "stdout",
     "output_type": "stream",
     "text": [
      "              precision    recall  f1-score   support\n",
      "\n",
      "           0       0.93      0.96      0.94       849\n",
      "           1       0.93      0.89      0.90       532\n",
      "\n",
      "    accuracy                           0.93      1381\n",
      "   macro avg       0.93      0.92      0.92      1381\n",
      "weighted avg       0.93      0.93      0.93      1381\n",
      "\n"
     ]
    }
   ],
   "source": [
    "#print classification report\n",
    "print(metrics.classification_report(y_test, y_pred_rbf))"
   ]
  },
  {
   "cell_type": "code",
   "execution_count": 63,
   "metadata": {},
   "outputs": [
    {
     "name": "stdout",
     "output_type": "stream",
     "text": [
      "[[811  38]\n",
      " [ 61 471]]\n"
     ]
    }
   ],
   "source": [
    "#print confusion_matrix\n",
    "print(metrics.confusion_matrix(y_test, y_pred_rbf))"
   ]
  },
  {
   "cell_type": "code",
   "execution_count": 66,
   "metadata": {},
   "outputs": [
    {
     "data": {
      "image/png": "[encoded data removed]",
      "text/plain": [
       "<Figure size 640x480 with 2 Axes>"
      ]
     },
     "metadata": {},
     "output_type": "display_data"
    }
   ],
   "source": [
    "#Plotting confusion matrix\n",
    "cm = confusion_matrix(y_test, y_pred_rbf, labels=model.classes_)\n",
    "disp = ConfusionMatrixDisplay(confusion_matrix=cm,display_labels=model.classes_)\n",
    "disp.plot()\n",
    "plt.show()"
   ]
  },
  {
   "cell_type": "markdown",
   "metadata": {
    "id": "TN3JPD2VyJC9"
   },
   "source": [
    "The SVM we have built so far gives decently good results - an accuracy of 92%, sensitivity/recall (TNR) of 88%. \n",
    "\n",
    "### Interpretation of Results\n",
    "\n",
    "In the confusion matrix, the elements at (0, 0) and (1,1) correspond to the more frequently occurring class, i.e. ham emails. Thus, it implies that:\n",
    "- 92% of all emails are classified correctly\n",
    "- 88.5% of spams are identified correctly (sensitivity/recall)\n",
    "- Specificity, or % of hams classified correctly, is 95%\n",
    "\n"
   ]
  },
  {
   "cell_type": "markdown",
   "metadata": {
    "id": "2bMzMwwyyJC9"
   },
   "source": [
    "### K-Fold Cross Validation\n",
    "\n"
   ]
  },
  {
   "cell_type": "code",
   "execution_count": 68,
   "metadata": {
    "id": "hXlkesvsyJC9"
   },
   "outputs": [],
   "source": [
    "# creating a KFold object with 5 splits , shuffle True and random_state=4\n",
    "folds = KFold(n_splits=5, shuffle=True, random_state=4)\n",
    "# instantiating a SVC model with cost=1 and random_state=4\n",
    "model = SVC(C=1.0, random_state=4)"
   ]
  },
  {
   "cell_type": "markdown",
   "metadata": {
    "id": "a_dGrp-9yJC9"
   },
   "source": [
    "Computing the cross-validation scores 1(note that the argument cv takes the 'folds' object, and we have specified 'accuracy' as the metric\n"
   ]
  },
  {
   "cell_type": "code",
   "execution_count": 70,
   "metadata": {
    "id": "4VlGDQ_tyJC9"
   },
   "outputs": [],
   "source": [
    "# Computing the cross-validation scores\n",
    "cv_results = cross_val_score(model, X_train, y_train, cv=folds, scoring='accuracy')"
   ]
  },
  {
   "cell_type": "code",
   "execution_count": 72,
   "metadata": {
    "id": "1ZG1d6JUyJC9",
    "outputId": "65406384-8e58-418c-b8db-c1914ae8bbf3"
   },
   "outputs": [
    {
     "name": "stdout",
     "output_type": "stream",
     "text": [
      "[0.91770186 0.94099379 0.92080745 0.93012422 0.93944099]\n",
      "Mean Accuracy: 0.9298136645962731\n"
     ]
    }
   ],
   "source": [
    "# print 5 accuracies obtained from the 5 folds\n",
    "print(cv_results)\n",
    "#print mean accuracy of all 5 folds\n",
    "print(f'Mean Accuracy: {cv_results.mean()}')"
   ]
  },
  {
   "cell_type": "markdown",
   "metadata": {
    "id": "yXYTnwsGyJC9"
   },
   "source": [
    "## Hyperparameter Tuning\n",
    "### Grid Search to Find Optimal Hyperparameter C\n",
    "\n"
   ]
  },
  {
   "cell_type": "markdown",
   "metadata": {
    "id": "FaTNfVxlywDy"
   },
   "source": [
    "## **`Watch Video 2 : Hyperparameter Tuning SVM using GridSearchCV`**"
   ]
  },
  {
   "cell_type": "code",
   "execution_count": 76,
   "metadata": {
    "id": "TnT-kTrJyJC9"
   },
   "outputs": [],
   "source": [
    "# specify range of parameters (C) as a list\n",
    "params = {'C': [0.1, 1, 10, 100, 1000]}\n",
    "#Intialise SVC()\n",
    "model = SVC()\n",
    "model_cv = GridSearchCV(estimator=model, param_grid=params, scoring='accuracy', cv=folds, verbose=1, return_train_score=True )"
   ]
  },
  {
   "cell_type": "code",
   "execution_count": 77,
   "metadata": {
    "id": "YCXZGuTtyJC-",
    "outputId": "e9a5954b-78dc-4d1c-efc7-9b58c4b85787"
   },
   "outputs": [
    {
     "name": "stdout",
     "output_type": "stream",
     "text": [
      "Fitting 5 folds for each of 5 candidates, totalling 25 fits\n"
     ]
    },
    {
     "data": {
      "text/plain": [
       "GridSearchCV(cv=KFold(n_splits=5, random_state=4, shuffle=True),\n",
       "             estimator=SVC(), param_grid={'C': [0.1, 1, 10, 100, 1000]},\n",
       "             return_train_score=True, scoring='accuracy', verbose=1)"
      ]
     },
     "execution_count": 77,
     "metadata": {},
     "output_type": "execute_result"
    }
   ],
   "source": [
    "# fit the model on train data, it will fit 5 folds across all values of C\n",
    "model_cv.fit(X_train, y_train)"
   ]
  },
  {
   "cell_type": "code",
   "execution_count": 78,
   "metadata": {
    "id": "Bgk1dl2syJC-",
    "outputId": "ba6af64a-67fd-4301-fb1d-4a6562b8d84b"
   },
   "outputs": [
    {
     "name": "stdout",
     "output_type": "stream",
     "text": [
      "   mean_fit_time  std_fit_time  mean_score_time  std_score_time param_C  \\\n",
      "0       0.141500      0.007403         0.079427        0.002276     0.1   \n",
      "1       0.097891      0.004431         0.047094        0.003400       1   \n",
      "2       0.091383      0.008072         0.037777        0.004180      10   \n",
      "3       0.108567      0.009627         0.035002        0.003578     100   \n",
      "4       0.151149      0.024156         0.032108        0.004895    1000   \n",
      "\n",
      "        params  split0_test_score  split1_test_score  split2_test_score  \\\n",
      "0   {'C': 0.1}           0.895963           0.902174           0.906832   \n",
      "1     {'C': 1}           0.917702           0.940994           0.920807   \n",
      "2    {'C': 10}           0.908385           0.944099           0.933230   \n",
      "3   {'C': 100}           0.913043           0.927019           0.936335   \n",
      "4  {'C': 1000}           0.908385           0.931677           0.922360   \n",
      "\n",
      "   split3_test_score  ...  mean_test_score  std_test_score  rank_test_score  \\\n",
      "0           0.902174  ...         0.905280        0.007795                5   \n",
      "1           0.930124  ...         0.929814        0.009440                2   \n",
      "2           0.928571  ...         0.930745        0.012368                1   \n",
      "3           0.930124  ...         0.928571        0.008562                3   \n",
      "4           0.919255  ...         0.920497        0.007440                4   \n",
      "\n",
      "   split0_train_score  split1_train_score  split2_train_score  \\\n",
      "0            0.912655            0.911879            0.912267   \n",
      "1            0.951475            0.946040            0.949922   \n",
      "2            0.975543            0.970885            0.973991   \n",
      "3            0.989519            0.989907            0.989907   \n",
      "4            0.996118            0.993789            0.994177   \n",
      "\n",
      "   split3_train_score  split4_train_score  mean_train_score  std_train_score  \n",
      "0            0.911102            0.906056          0.910792         0.002423  \n",
      "1            0.946040            0.945652          0.947826         0.002401  \n",
      "2            0.968944            0.971273          0.972127         0.002347  \n",
      "3            0.988354            0.987966          0.989130         0.000814  \n",
      "4            0.993789            0.994177          0.994410         0.000872  \n",
      "\n",
      "[5 rows x 21 columns]\n"
     ]
    }
   ],
   "source": [
    "#convert results of grid search CV into dataframe\n",
    "cv_results = pd.DataFrame(model_cv.cv_results_)\n",
    "#print cv_results\n",
    "print(cv_results)"
   ]
  },
  {
   "cell_type": "code",
   "execution_count": 82,
   "metadata": {
    "id": "NR_emF1fyJC-",
    "outputId": "509bcc8b-5a69-439a-e14f-18870353564e"
   },
   "outputs": [
    {
     "name": "stderr",
     "output_type": "stream",
     "text": [
      "C:\\Users\\AbhinavPeddi\\anaconda3\\lib\\site-packages\\seaborn\\_decorators.py:36: FutureWarning: Pass the following variables as keyword args: x, y. From version 0.12, the only valid positional argument will be `data`, and passing other arguments without an explicit keyword will result in an error or misinterpretation.\n",
      "  warnings.warn(\n",
      "C:\\Users\\AbhinavPeddi\\anaconda3\\lib\\site-packages\\seaborn\\_decorators.py:36: FutureWarning: Pass the following variables as keyword args: x, y. From version 0.12, the only valid positional argument will be `data`, and passing other arguments without an explicit keyword will result in an error or misinterpretation.\n",
      "  warnings.warn(\n"
     ]
    },
    {
     "data": {
      "image/png": "[encoded data removed]",
      "text/plain": [
       "<Figure size 800x600 with 1 Axes>"
      ]
     },
     "metadata": {},
     "output_type": "display_data"
    }
   ],
   "source": [
    "# plot of C versus train and test scores\n",
    "plt.figure(figsize=(8, 6))\n",
    "sns.lineplot(cv_results['param_C'],cv_results['mean_test_score'])\n",
    "sns.lineplot(cv_results['param_C'],cv_results['mean_train_score'])\n",
    "plt.legend(['test accuracy', 'train accuracy'], loc='upper left' )\n",
    "plt.xlabel('C')\n",
    "plt.ylabel('Accuracy')\n",
    "plt.xscale('log')\n",
    "plt.show()"
   ]
  },
  {
   "cell_type": "markdown",
   "metadata": {
    "id": "Tg87jgJZyJC-"
   },
   "source": [
    "Though the training accuracy monotonically increases with C, the test accuracy gradually reduces. Thus, we can conclude that higher values of C tend to **overfit** the model. This is because a high C value aims to classify all training examples correctly (since C is the *cost of misclassification* - if you impose a high cost on the model, it will avoid misclassifying any points by overfitting the data). \n",
    "\n"
   ]
  },
  {
   "cell_type": "markdown",
   "metadata": {
    "id": "gPYLXp4ZyJC-"
   },
   "source": [
    "Let's finally look at the optimal C values found by GridSearchCV."
   ]
  },
  {
   "cell_type": "code",
   "execution_count": 84,
   "metadata": {
    "id": "Ht-uxhI4yJC-",
    "outputId": "4cb9351b-bfe3-49f0-c9b3-eb831b0299d6"
   },
   "outputs": [
    {
     "name": "stdout",
     "output_type": "stream",
     "text": [
      " The highest test accuracy is 0.9307453416149067 at C = 10\n"
     ]
    }
   ],
   "source": [
    "#get best score for above gridearch\n",
    "best_score = model_cv.best_score_\n",
    "#get best c value as well\n",
    "best_params = model_cv.best_params_\n",
    "best_C= best_params['C']\n",
    "print(\" The highest test accuracy is {0} at C = {1}\".format(best_score, best_C))"
   ]
  },
  {
   "cell_type": "markdown",
   "metadata": {
    "id": "e6F9obocyJC_"
   },
   "source": [
    "Let's now look at the metrics corresponding to C=10."
   ]
  },
  {
   "cell_type": "code",
   "execution_count": 85,
   "metadata": {
    "id": "Uvittk--yJC_"
   },
   "outputs": [],
   "source": [
    "# model with the best value of C\n",
    "model = SVC(C=10)\n",
    "# fit model on training data\n",
    "model.fit(X_train, y_train)\n",
    "# predict on test data\n",
    "y_pred_rbf1 = model.predict(X_test)"
   ]
  },
  {
   "cell_type": "code",
   "execution_count": 87,
   "metadata": {
    "id": "MmYaJX32yJC_",
    "outputId": "c85310bd-af33-4853-db6b-b38000f561f5"
   },
   "outputs": [
    {
     "name": "stdout",
     "output_type": "stream",
     "text": [
      "[[810  39]\n",
      " [ 57 475]]\n"
     ]
    }
   ],
   "source": [
    "#print confusion_matrix\n",
    "print(confusion_matrix(y_test, y_pred_rbf1))"
   ]
  },
  {
   "cell_type": "code",
   "execution_count": 93,
   "metadata": {},
   "outputs": [
    {
     "data": {
      "image/png": "[encoded data removed]",
      "text/plain": [
       "<Figure size 640x480 with 2 Axes>"
      ]
     },
     "metadata": {},
     "output_type": "display_data"
    }
   ],
   "source": [
    "#plotting confusion matrix\n",
    "cm = confusion_matrix(y_test, y_pred_rbf1, labels=model.classes_)\n",
    "disp = ConfusionMatrixDisplay(confusion_matrix=cm,display_labels=model.classes_)\n",
    "disp.plot()\n",
    "plt.show()"
   ]
  },
  {
   "cell_type": "markdown",
   "metadata": {
    "id": "8WF43GbbyJC_"
   },
   "source": [
    "Observe type 2 error is reduced after hyperparameter tuning"
   ]
  },
  {
   "cell_type": "code",
   "execution_count": 92,
   "metadata": {
    "id": "rFFr2UvLyJC_",
    "outputId": "e0b6ba16-b436-43f0-bbe9-7f091ac9987d"
   },
   "outputs": [
    {
     "name": "stdout",
     "output_type": "stream",
     "text": [
      "Accuracy Score: 0.9304851556842868\n",
      "              precision    recall  f1-score   support\n",
      "\n",
      "           0       0.93      0.95      0.94       849\n",
      "           1       0.92      0.89      0.91       532\n",
      "\n",
      "    accuracy                           0.93      1381\n",
      "   macro avg       0.93      0.92      0.93      1381\n",
      "weighted avg       0.93      0.93      0.93      1381\n",
      "\n"
     ]
    }
   ],
   "source": [
    "#Accuracy Score\n",
    "print(f'Accuracy Score: {metrics.accuracy_score(y_test, y_pred_rbf1)}')\n",
    "#Classification report\n",
    "print(metrics.classification_report(y_test, y_pred_rbf1))"
   ]
  },
  {
   "cell_type": "markdown",
   "metadata": {
    "id": "lCTm4JTjyJDA"
   },
   "source": [
    "## Optimising for Other Evaluation Metrics\n",
    "In this case, we had optimised (tuned) the model based on overall accuracy, though that may not always be the best metric to optimise. For example, if we are concerned more about catching all spams (positives), we may want to maximise TPR or sensitivity/recall. If, on the other hand, we want to avoid classifying hams as spams (so that any important mails don't get into the spam box), we would maximise the TNR or specificity."
   ]
  },
  {
   "cell_type": "code",
   "execution_count": 95,
   "metadata": {
    "id": "18F2qmVZyJDA",
    "outputId": "88d64184-9776-4a9d-b62d-6bf7f5e99b0b",
    "scrolled": true
   },
   "outputs": [
    {
     "name": "stdout",
     "output_type": "stream",
     "text": [
      "# Tuning hyper-parameters for accuracy\n",
      " The highest accuracy score is 0.9307453416149067 at C = {'C': 10}\n",
      "\n",
      "\n",
      "# Tuning hyper-parameters for precision\n",
      " The highest precision score is 0.9373311086391073 at C = {'C': 0.1}\n",
      "\n",
      "\n",
      "# Tuning hyper-parameters for recall\n",
      " The highest recall score is 0.8987270122310326 at C = {'C': 10}\n",
      "\n",
      "\n"
     ]
    }
   ],
   "source": [
    "# specify params with C as list [0.1, 1, 10, 100, 1000]\n",
    "params = {'C': [0.1, 1, 10, 100, 1000]}\n",
    "\n",
    "# specify scores/metrics in an iterable i.e.['accuracy', 'precision', 'recall']\n",
    "scores = ['accuracy', 'precision', 'recall']\n",
    "\n",
    "# iterate through scores\n",
    "for score in scores:\n",
    "    print(\"# Tuning hyper-parameters for {}\".format(score))\n",
    "    # set up GridSearch for score metric with estimator, params, cv, scoring as scores and return_train_score=True\n",
    "    clf = GridSearchCV(SVC(), params, cv=folds, scoring=score, return_train_score=True )\n",
    "    # fit model on training data\n",
    "    clf.fit(X_train, y_train)\n",
    "    print(\" The highest {0} score is {1} at C = {2}\".format(score, clf.best_score_, clf.best_params_))\n",
    "    print(\"\\n\")"
   ]
  },
  {
   "cell_type": "markdown",
   "metadata": {
    "id": "9fKw7PVGyJDA"
   },
   "source": [
    "Thus, we can see that the optimal value of the hyperparameter varies significantly with the choice of evaluation metric.\n",
    "\n",
    "\n",
    "We have 3 most important hyperparameters to optimise in SVM - \n",
    "- The choice of kernel (linear, rbf etc.)\n",
    "- C\n",
    "- gamma\n",
    "Lets do optimize these parameter values and check our model"
   ]
  },
  {
   "cell_type": "code",
   "execution_count": 96,
   "metadata": {
    "id": "IPKM-RE0yJDA"
   },
   "outputs": [],
   "source": [
    "# Get list of all available kernels in SVM in a list i.e. ['Polynomial', 'RBF', 'Sigmoid','Linear']\n",
    "kernels = ['Polynomial', 'RBF', 'Sigmoid','Linear']\n",
    "#A function which returns the corresponding SVC model for different kernals\n",
    "def getClassifier(ktype):\n",
    "    if ktype == 0:\n",
    "        # Polynomial kernal\n",
    "        return SVC(kernel='poly', degree=8, gamma=\"auto\")\n",
    "    elif ktype == 1:\n",
    "        # Radial Basis Function kernal\n",
    "        return SVC(kernel='rbf', gamma=\"auto\")\n",
    "    elif ktype == 2:\n",
    "        # Sigmoid kernal\n",
    "        return SVC(kernel='sigmoid', gamma=\"auto\")\n",
    "    elif ktype == 3:\n",
    "        # Linear kernal\n",
    "        return SVC(kernel='linear', gamma=\"auto\")"
   ]
  },
  {
   "cell_type": "code",
   "execution_count": 101,
   "metadata": {
    "id": "akly1mftyJDA",
    "outputId": "e4d3acc9-2d7a-449d-fc58-f20ce8bf8320"
   },
   "outputs": [
    {
     "name": "stdout",
     "output_type": "stream",
     "text": [
      "Evaluation: Polynomial kernel\n",
      "              precision    recall  f1-score   support\n",
      "\n",
      "           0       0.66      0.99      0.79       849\n",
      "           1       0.91      0.20      0.33       532\n",
      "\n",
      "    accuracy                           0.69      1381\n",
      "   macro avg       0.79      0.60      0.56      1381\n",
      "weighted avg       0.76      0.69      0.62      1381\n",
      "\n",
      "Evaluation: RBF kernel\n",
      "              precision    recall  f1-score   support\n",
      "\n",
      "           0       0.93      0.96      0.94       849\n",
      "           1       0.93      0.89      0.90       532\n",
      "\n",
      "    accuracy                           0.93      1381\n",
      "   macro avg       0.93      0.92      0.92      1381\n",
      "weighted avg       0.93      0.93      0.93      1381\n",
      "\n",
      "Evaluation: Sigmoid kernel\n",
      "              precision    recall  f1-score   support\n",
      "\n",
      "           0       0.92      0.91      0.92       849\n",
      "           1       0.86      0.87      0.86       532\n",
      "\n",
      "    accuracy                           0.90      1381\n",
      "   macro avg       0.89      0.89      0.89      1381\n",
      "weighted avg       0.90      0.90      0.90      1381\n",
      "\n",
      "Evaluation: Linear kernel\n",
      "              precision    recall  f1-score   support\n",
      "\n",
      "           0       0.93      0.95      0.94       849\n",
      "           1       0.92      0.89      0.91       532\n",
      "\n",
      "    accuracy                           0.93      1381\n",
      "   macro avg       0.93      0.92      0.92      1381\n",
      "weighted avg       0.93      0.93      0.93      1381\n",
      "\n"
     ]
    }
   ],
   "source": [
    "# Iterate in the range of 4\n",
    "for i in range(4):\n",
    "    # Use getClassifier() function for different ith value to get SVC model using different kernal\n",
    "    svcclassifier = getClassifier(i)\n",
    "    # fit above model\n",
    "    svcclassifier.fit(X_train, y_train) \n",
    "    # Make prediction on test data\n",
    "    y_pred=svcclassifier.predict(X_test)\n",
    "    # Check which kernal is used as per kernels list\n",
    "    print('Evaluation:' ,kernels[i], 'kernel' )\n",
    "    # Evaluate our model using classification_report\n",
    "    print(metrics.classification_report(y_test, y_pred))\n",
    "\n"
   ]
  },
  {
   "cell_type": "markdown",
   "metadata": {
    "id": "myR5LLSuyJDB"
   },
   "source": [
    "From above we can see thta rbf krnals gives better prediction result\n",
    "\n",
    "lets do gridsearch and confirm value of C, gamma and kernel.\n",
    "\n",
    "\n",
    "C= [0.1,1, 10, 100]\n",
    "gamma= [1,0.1,0.01,0.001]\n",
    "kernel= ['rbf', 'poly', 'sigmoid']`"
   ]
  },
  {
   "cell_type": "code",
   "execution_count": 103,
   "metadata": {
    "id": "bDmcOlWdyJDB",
    "outputId": "66bacaac-0717-47f6-810e-8af26b6368d8"
   },
   "outputs": [
    {
     "name": "stdout",
     "output_type": "stream",
     "text": [
      "Fitting 5 folds for each of 48 candidates, totalling 240 fits\n",
      "[CV] END .........................C=0.1, gamma=1, kernel=rbf; total time=   0.4s\n",
      "[CV] END .........................C=0.1, gamma=1, kernel=rbf; total time=   0.4s\n",
      "[CV] END .........................C=0.1, gamma=1, kernel=rbf; total time=   0.3s\n",
      "[CV] END .........................C=0.1, gamma=1, kernel=rbf; total time=   0.3s\n",
      "[CV] END .........................C=0.1, gamma=1, kernel=rbf; total time=   0.3s\n",
      "[CV] END ........................C=0.1, gamma=1, kernel=poly; total time=   0.0s\n",
      "[CV] END ........................C=0.1, gamma=1, kernel=poly; total time=   0.0s\n",
      "[CV] END ........................C=0.1, gamma=1, kernel=poly; total time=   0.0s\n",
      "[CV] END ........................C=0.1, gamma=1, kernel=poly; total time=   0.1s\n",
      "[CV] END ........................C=0.1, gamma=1, kernel=poly; total time=   0.1s\n",
      "[CV] END .....................C=0.1, gamma=1, kernel=sigmoid; total time=   0.0s\n",
      "[CV] END .....................C=0.1, gamma=1, kernel=sigmoid; total time=   0.0s\n",
      "[CV] END .....................C=0.1, gamma=1, kernel=sigmoid; total time=   0.1s\n",
      "[CV] END .....................C=0.1, gamma=1, kernel=sigmoid; total time=   0.0s\n",
      "[CV] END .....................C=0.1, gamma=1, kernel=sigmoid; total time=   0.1s\n",
      "[CV] END .......................C=0.1, gamma=0.1, kernel=rbf; total time=   0.2s\n",
      "[CV] END .......................C=0.1, gamma=0.1, kernel=rbf; total time=   0.2s\n",
      "[CV] END .......................C=0.1, gamma=0.1, kernel=rbf; total time=   0.2s\n",
      "[CV] END .......................C=0.1, gamma=0.1, kernel=rbf; total time=   0.2s\n",
      "[CV] END .......................C=0.1, gamma=0.1, kernel=rbf; total time=   0.2s\n",
      "[CV] END ......................C=0.1, gamma=0.1, kernel=poly; total time=   0.0s\n",
      "[CV] END ......................C=0.1, gamma=0.1, kernel=poly; total time=   0.1s\n",
      "[CV] END ......................C=0.1, gamma=0.1, kernel=poly; total time=   0.0s\n",
      "[CV] END ......................C=0.1, gamma=0.1, kernel=poly; total time=   0.0s\n",
      "[CV] END ......................C=0.1, gamma=0.1, kernel=poly; total time=   0.0s\n",
      "[CV] END ...................C=0.1, gamma=0.1, kernel=sigmoid; total time=   0.0s\n",
      "[CV] END ...................C=0.1, gamma=0.1, kernel=sigmoid; total time=   0.0s\n",
      "[CV] END ...................C=0.1, gamma=0.1, kernel=sigmoid; total time=   0.0s\n",
      "[CV] END ...................C=0.1, gamma=0.1, kernel=sigmoid; total time=   0.1s\n",
      "[CV] END ...................C=0.1, gamma=0.1, kernel=sigmoid; total time=   0.0s\n",
      "[CV] END ......................C=0.1, gamma=0.01, kernel=rbf; total time=   0.2s\n",
      "[CV] END ......................C=0.1, gamma=0.01, kernel=rbf; total time=   0.2s\n",
      "[CV] END ......................C=0.1, gamma=0.01, kernel=rbf; total time=   0.2s\n",
      "[CV] END ......................C=0.1, gamma=0.01, kernel=rbf; total time=   0.2s\n",
      "[CV] END ......................C=0.1, gamma=0.01, kernel=rbf; total time=   0.2s\n",
      "[CV] END .....................C=0.1, gamma=0.01, kernel=poly; total time=   0.1s\n",
      "[CV] END .....................C=0.1, gamma=0.01, kernel=poly; total time=   0.1s\n",
      "[CV] END .....................C=0.1, gamma=0.01, kernel=poly; total time=   0.2s\n",
      "[CV] END .....................C=0.1, gamma=0.01, kernel=poly; total time=   0.1s\n",
      "[CV] END .....................C=0.1, gamma=0.01, kernel=poly; total time=   0.2s\n",
      "[CV] END ..................C=0.1, gamma=0.01, kernel=sigmoid; total time=   0.1s\n",
      "[CV] END ..................C=0.1, gamma=0.01, kernel=sigmoid; total time=   0.1s\n",
      "[CV] END ..................C=0.1, gamma=0.01, kernel=sigmoid; total time=   0.1s\n",
      "[CV] END ..................C=0.1, gamma=0.01, kernel=sigmoid; total time=   0.1s\n",
      "[CV] END ..................C=0.1, gamma=0.01, kernel=sigmoid; total time=   0.1s\n",
      "[CV] END .....................C=0.1, gamma=0.001, kernel=rbf; total time=   0.3s\n",
      "[CV] END .....................C=0.1, gamma=0.001, kernel=rbf; total time=   0.2s\n",
      "[CV] END .....................C=0.1, gamma=0.001, kernel=rbf; total time=   0.3s\n",
      "[CV] END .....................C=0.1, gamma=0.001, kernel=rbf; total time=   0.2s\n",
      "[CV] END .....................C=0.1, gamma=0.001, kernel=rbf; total time=   0.2s\n",
      "[CV] END ....................C=0.1, gamma=0.001, kernel=poly; total time=   0.1s\n",
      "[CV] END ....................C=0.1, gamma=0.001, kernel=poly; total time=   0.1s\n",
      "[CV] END ....................C=0.1, gamma=0.001, kernel=poly; total time=   0.1s\n",
      "[CV] END ....................C=0.1, gamma=0.001, kernel=poly; total time=   0.1s\n",
      "[CV] END ....................C=0.1, gamma=0.001, kernel=poly; total time=   0.2s\n",
      "[CV] END .................C=0.1, gamma=0.001, kernel=sigmoid; total time=   0.2s\n",
      "[CV] END .................C=0.1, gamma=0.001, kernel=sigmoid; total time=   0.2s\n",
      "[CV] END .................C=0.1, gamma=0.001, kernel=sigmoid; total time=   0.3s\n",
      "[CV] END .................C=0.1, gamma=0.001, kernel=sigmoid; total time=   0.2s\n",
      "[CV] END .................C=0.1, gamma=0.001, kernel=sigmoid; total time=   0.3s\n",
      "[CV] END ...........................C=1, gamma=1, kernel=rbf; total time=   0.4s\n",
      "[CV] END ...........................C=1, gamma=1, kernel=rbf; total time=   0.4s\n",
      "[CV] END ...........................C=1, gamma=1, kernel=rbf; total time=   0.4s\n",
      "[CV] END ...........................C=1, gamma=1, kernel=rbf; total time=   0.4s\n",
      "[CV] END ...........................C=1, gamma=1, kernel=rbf; total time=   0.4s\n",
      "[CV] END ..........................C=1, gamma=1, kernel=poly; total time=   0.1s\n",
      "[CV] END ..........................C=1, gamma=1, kernel=poly; total time=   0.1s\n",
      "[CV] END ..........................C=1, gamma=1, kernel=poly; total time=   0.1s\n",
      "[CV] END ..........................C=1, gamma=1, kernel=poly; total time=   0.1s\n",
      "[CV] END ..........................C=1, gamma=1, kernel=poly; total time=   0.1s\n",
      "[CV] END .......................C=1, gamma=1, kernel=sigmoid; total time=   0.0s\n",
      "[CV] END .......................C=1, gamma=1, kernel=sigmoid; total time=   0.0s\n",
      "[CV] END .......................C=1, gamma=1, kernel=sigmoid; total time=   0.1s\n",
      "[CV] END .......................C=1, gamma=1, kernel=sigmoid; total time=   0.0s\n",
      "[CV] END .......................C=1, gamma=1, kernel=sigmoid; total time=   0.0s\n",
      "[CV] END .........................C=1, gamma=0.1, kernel=rbf; total time=   0.2s\n",
      "[CV] END .........................C=1, gamma=0.1, kernel=rbf; total time=   0.2s\n",
      "[CV] END .........................C=1, gamma=0.1, kernel=rbf; total time=   0.2s\n",
      "[CV] END .........................C=1, gamma=0.1, kernel=rbf; total time=   0.2s\n",
      "[CV] END .........................C=1, gamma=0.1, kernel=rbf; total time=   0.2s\n",
      "[CV] END ........................C=1, gamma=0.1, kernel=poly; total time=   0.0s\n",
      "[CV] END ........................C=1, gamma=0.1, kernel=poly; total time=   0.0s\n",
      "[CV] END ........................C=1, gamma=0.1, kernel=poly; total time=   0.0s\n",
      "[CV] END ........................C=1, gamma=0.1, kernel=poly; total time=   0.0s\n",
      "[CV] END ........................C=1, gamma=0.1, kernel=poly; total time=   0.0s\n",
      "[CV] END .....................C=1, gamma=0.1, kernel=sigmoid; total time=   0.0s\n",
      "[CV] END .....................C=1, gamma=0.1, kernel=sigmoid; total time=   0.0s\n",
      "[CV] END .....................C=1, gamma=0.1, kernel=sigmoid; total time=   0.0s\n",
      "[CV] END .....................C=1, gamma=0.1, kernel=sigmoid; total time=   0.0s\n",
      "[CV] END .....................C=1, gamma=0.1, kernel=sigmoid; total time=   0.0s\n",
      "[CV] END ........................C=1, gamma=0.01, kernel=rbf; total time=   0.0s\n",
      "[CV] END ........................C=1, gamma=0.01, kernel=rbf; total time=   0.0s\n",
      "[CV] END ........................C=1, gamma=0.01, kernel=rbf; total time=   0.0s\n",
      "[CV] END ........................C=1, gamma=0.01, kernel=rbf; total time=   0.0s\n",
      "[CV] END ........................C=1, gamma=0.01, kernel=rbf; total time=   0.0s\n",
      "[CV] END .......................C=1, gamma=0.01, kernel=poly; total time=   0.1s\n",
      "[CV] END .......................C=1, gamma=0.01, kernel=poly; total time=   0.1s\n",
      "[CV] END .......................C=1, gamma=0.01, kernel=poly; total time=   0.2s\n",
      "[CV] END .......................C=1, gamma=0.01, kernel=poly; total time=   0.2s\n",
      "[CV] END .......................C=1, gamma=0.01, kernel=poly; total time=   0.1s\n",
      "[CV] END ....................C=1, gamma=0.01, kernel=sigmoid; total time=   0.1s\n",
      "[CV] END ....................C=1, gamma=0.01, kernel=sigmoid; total time=   0.1s\n",
      "[CV] END ....................C=1, gamma=0.01, kernel=sigmoid; total time=   0.1s\n",
      "[CV] END ....................C=1, gamma=0.01, kernel=sigmoid; total time=   0.2s\n",
      "[CV] END ....................C=1, gamma=0.01, kernel=sigmoid; total time=   0.1s\n",
      "[CV] END .......................C=1, gamma=0.001, kernel=rbf; total time=   0.2s\n",
      "[CV] END .......................C=1, gamma=0.001, kernel=rbf; total time=   0.2s\n",
      "[CV] END .......................C=1, gamma=0.001, kernel=rbf; total time=   0.2s\n",
      "[CV] END .......................C=1, gamma=0.001, kernel=rbf; total time=   0.2s\n",
      "[CV] END .......................C=1, gamma=0.001, kernel=rbf; total time=   0.2s\n",
      "[CV] END ......................C=1, gamma=0.001, kernel=poly; total time=   0.2s\n",
      "[CV] END ......................C=1, gamma=0.001, kernel=poly; total time=   0.2s\n",
      "[CV] END ......................C=1, gamma=0.001, kernel=poly; total time=   0.2s\n",
      "[CV] END ......................C=1, gamma=0.001, kernel=poly; total time=   0.2s\n",
      "[CV] END ......................C=1, gamma=0.001, kernel=poly; total time=   0.2s\n",
      "[CV] END ...................C=1, gamma=0.001, kernel=sigmoid; total time=   0.2s\n",
      "[CV] END ...................C=1, gamma=0.001, kernel=sigmoid; total time=   0.2s\n",
      "[CV] END ...................C=1, gamma=0.001, kernel=sigmoid; total time=   0.2s\n",
      "[CV] END ...................C=1, gamma=0.001, kernel=sigmoid; total time=   0.2s\n",
      "[CV] END ...................C=1, gamma=0.001, kernel=sigmoid; total time=   0.2s\n",
      "[CV] END ..........................C=10, gamma=1, kernel=rbf; total time=   0.6s\n",
      "[CV] END ..........................C=10, gamma=1, kernel=rbf; total time=   0.5s\n",
      "[CV] END ..........................C=10, gamma=1, kernel=rbf; total time=   0.5s\n",
      "[CV] END ..........................C=10, gamma=1, kernel=rbf; total time=   0.6s\n",
      "[CV] END ..........................C=10, gamma=1, kernel=rbf; total time=   0.7s\n",
      "[CV] END .........................C=10, gamma=1, kernel=poly; total time=   0.3s\n",
      "[CV] END .........................C=10, gamma=1, kernel=poly; total time=   0.1s\n",
      "[CV] END .........................C=10, gamma=1, kernel=poly; total time=   0.2s\n",
      "[CV] END .........................C=10, gamma=1, kernel=poly; total time=   0.1s\n",
      "[CV] END .........................C=10, gamma=1, kernel=poly; total time=   0.2s\n",
      "[CV] END ......................C=10, gamma=1, kernel=sigmoid; total time=   0.1s\n",
      "[CV] END ......................C=10, gamma=1, kernel=sigmoid; total time=   0.1s\n",
      "[CV] END ......................C=10, gamma=1, kernel=sigmoid; total time=   0.1s\n",
      "[CV] END ......................C=10, gamma=1, kernel=sigmoid; total time=   0.0s\n",
      "[CV] END ......................C=10, gamma=1, kernel=sigmoid; total time=   0.1s\n",
      "[CV] END ........................C=10, gamma=0.1, kernel=rbf; total time=   0.4s\n",
      "[CV] END ........................C=10, gamma=0.1, kernel=rbf; total time=   0.4s\n",
      "[CV] END ........................C=10, gamma=0.1, kernel=rbf; total time=   0.3s\n",
      "[CV] END ........................C=10, gamma=0.1, kernel=rbf; total time=   0.4s\n",
      "[CV] END ........................C=10, gamma=0.1, kernel=rbf; total time=   0.4s\n",
      "[CV] END .......................C=10, gamma=0.1, kernel=poly; total time=   0.1s\n",
      "[CV] END .......................C=10, gamma=0.1, kernel=poly; total time=   0.0s\n",
      "[CV] END .......................C=10, gamma=0.1, kernel=poly; total time=   0.1s\n",
      "[CV] END .......................C=10, gamma=0.1, kernel=poly; total time=   0.1s\n",
      "[CV] END .......................C=10, gamma=0.1, kernel=poly; total time=   0.1s\n",
      "[CV] END ....................C=10, gamma=0.1, kernel=sigmoid; total time=   0.0s\n",
      "[CV] END ....................C=10, gamma=0.1, kernel=sigmoid; total time=   0.0s\n",
      "[CV] END ....................C=10, gamma=0.1, kernel=sigmoid; total time=   0.0s\n",
      "[CV] END ....................C=10, gamma=0.1, kernel=sigmoid; total time=   0.0s\n",
      "[CV] END ....................C=10, gamma=0.1, kernel=sigmoid; total time=   0.0s\n",
      "[CV] END .......................C=10, gamma=0.01, kernel=rbf; total time=   0.1s\n",
      "[CV] END .......................C=10, gamma=0.01, kernel=rbf; total time=   0.1s\n",
      "[CV] END .......................C=10, gamma=0.01, kernel=rbf; total time=   0.0s\n",
      "[CV] END .......................C=10, gamma=0.01, kernel=rbf; total time=   0.1s\n",
      "[CV] END .......................C=10, gamma=0.01, kernel=rbf; total time=   0.1s\n",
      "[CV] END ......................C=10, gamma=0.01, kernel=poly; total time=   0.1s\n",
      "[CV] END ......................C=10, gamma=0.01, kernel=poly; total time=   0.1s\n",
      "[CV] END ......................C=10, gamma=0.01, kernel=poly; total time=   0.2s\n",
      "[CV] END ......................C=10, gamma=0.01, kernel=poly; total time=   0.2s\n",
      "[CV] END ......................C=10, gamma=0.01, kernel=poly; total time=   0.2s\n",
      "[CV] END ...................C=10, gamma=0.01, kernel=sigmoid; total time=   0.0s\n",
      "[CV] END ...................C=10, gamma=0.01, kernel=sigmoid; total time=   0.0s\n",
      "[CV] END ...................C=10, gamma=0.01, kernel=sigmoid; total time=   0.0s\n",
      "[CV] END ...................C=10, gamma=0.01, kernel=sigmoid; total time=   0.0s\n",
      "[CV] END ...................C=10, gamma=0.01, kernel=sigmoid; total time=   0.0s\n",
      "[CV] END ......................C=10, gamma=0.001, kernel=rbf; total time=   0.1s\n",
      "[CV] END ......................C=10, gamma=0.001, kernel=rbf; total time=   0.1s\n",
      "[CV] END ......................C=10, gamma=0.001, kernel=rbf; total time=   0.1s\n",
      "[CV] END ......................C=10, gamma=0.001, kernel=rbf; total time=   0.1s\n",
      "[CV] END ......................C=10, gamma=0.001, kernel=rbf; total time=   0.1s\n",
      "[CV] END .....................C=10, gamma=0.001, kernel=poly; total time=   0.2s\n",
      "[CV] END .....................C=10, gamma=0.001, kernel=poly; total time=   0.3s\n",
      "[CV] END .....................C=10, gamma=0.001, kernel=poly; total time=   0.2s\n",
      "[CV] END .....................C=10, gamma=0.001, kernel=poly; total time=   0.2s\n",
      "[CV] END .....................C=10, gamma=0.001, kernel=poly; total time=   0.2s\n",
      "[CV] END ..................C=10, gamma=0.001, kernel=sigmoid; total time=   0.1s\n",
      "[CV] END ..................C=10, gamma=0.001, kernel=sigmoid; total time=   0.1s\n",
      "[CV] END ..................C=10, gamma=0.001, kernel=sigmoid; total time=   0.1s\n",
      "[CV] END ..................C=10, gamma=0.001, kernel=sigmoid; total time=   0.0s\n",
      "[CV] END ..................C=10, gamma=0.001, kernel=sigmoid; total time=   0.1s\n",
      "[CV] END .........................C=100, gamma=1, kernel=rbf; total time=   0.5s\n",
      "[CV] END .........................C=100, gamma=1, kernel=rbf; total time=   0.6s\n",
      "[CV] END .........................C=100, gamma=1, kernel=rbf; total time=   0.5s\n",
      "[CV] END .........................C=100, gamma=1, kernel=rbf; total time=   0.5s\n",
      "[CV] END .........................C=100, gamma=1, kernel=rbf; total time=   0.5s\n",
      "[CV] END ........................C=100, gamma=1, kernel=poly; total time=   0.5s\n",
      "[CV] END ........................C=100, gamma=1, kernel=poly; total time=   0.3s\n",
      "[CV] END ........................C=100, gamma=1, kernel=poly; total time=   0.7s\n",
      "[CV] END ........................C=100, gamma=1, kernel=poly; total time=   0.5s\n",
      "[CV] END ........................C=100, gamma=1, kernel=poly; total time=   0.2s\n",
      "[CV] END .....................C=100, gamma=1, kernel=sigmoid; total time=   0.1s\n",
      "[CV] END .....................C=100, gamma=1, kernel=sigmoid; total time=   0.1s\n",
      "[CV] END .....................C=100, gamma=1, kernel=sigmoid; total time=   0.2s\n",
      "[CV] END .....................C=100, gamma=1, kernel=sigmoid; total time=   0.1s\n",
      "[CV] END .....................C=100, gamma=1, kernel=sigmoid; total time=   0.2s\n",
      "[CV] END .......................C=100, gamma=0.1, kernel=rbf; total time=   0.4s\n",
      "[CV] END .......................C=100, gamma=0.1, kernel=rbf; total time=   0.4s\n",
      "[CV] END .......................C=100, gamma=0.1, kernel=rbf; total time=   0.3s\n",
      "[CV] END .......................C=100, gamma=0.1, kernel=rbf; total time=   0.3s\n",
      "[CV] END .......................C=100, gamma=0.1, kernel=rbf; total time=   0.3s\n",
      "[CV] END ......................C=100, gamma=0.1, kernel=poly; total time=   0.1s\n",
      "[CV] END ......................C=100, gamma=0.1, kernel=poly; total time=   0.1s\n",
      "[CV] END ......................C=100, gamma=0.1, kernel=poly; total time=   0.1s\n",
      "[CV] END ......................C=100, gamma=0.1, kernel=poly; total time=   0.3s\n",
      "[CV] END ......................C=100, gamma=0.1, kernel=poly; total time=   0.1s\n",
      "[CV] END ...................C=100, gamma=0.1, kernel=sigmoid; total time=   0.1s\n",
      "[CV] END ...................C=100, gamma=0.1, kernel=sigmoid; total time=   0.0s\n",
      "[CV] END ...................C=100, gamma=0.1, kernel=sigmoid; total time=   0.0s\n",
      "[CV] END ...................C=100, gamma=0.1, kernel=sigmoid; total time=   0.0s\n",
      "[CV] END ...................C=100, gamma=0.1, kernel=sigmoid; total time=   0.0s\n",
      "[CV] END ......................C=100, gamma=0.01, kernel=rbf; total time=   0.1s\n",
      "[CV] END ......................C=100, gamma=0.01, kernel=rbf; total time=   0.1s\n",
      "[CV] END ......................C=100, gamma=0.01, kernel=rbf; total time=   0.1s\n",
      "[CV] END ......................C=100, gamma=0.01, kernel=rbf; total time=   0.1s\n",
      "[CV] END ......................C=100, gamma=0.01, kernel=rbf; total time=   0.1s\n",
      "[CV] END .....................C=100, gamma=0.01, kernel=poly; total time=   0.1s\n",
      "[CV] END .....................C=100, gamma=0.01, kernel=poly; total time=   0.1s\n",
      "[CV] END .....................C=100, gamma=0.01, kernel=poly; total time=   0.1s\n",
      "[CV] END .....................C=100, gamma=0.01, kernel=poly; total time=   0.1s\n",
      "[CV] END .....................C=100, gamma=0.01, kernel=poly; total time=   0.1s\n",
      "[CV] END ..................C=100, gamma=0.01, kernel=sigmoid; total time=   0.0s\n",
      "[CV] END ..................C=100, gamma=0.01, kernel=sigmoid; total time=   0.0s\n",
      "[CV] END ..................C=100, gamma=0.01, kernel=sigmoid; total time=   0.0s\n",
      "[CV] END ..................C=100, gamma=0.01, kernel=sigmoid; total time=   0.0s\n",
      "[CV] END ..................C=100, gamma=0.01, kernel=sigmoid; total time=   0.0s\n",
      "[CV] END .....................C=100, gamma=0.001, kernel=rbf; total time=   0.0s\n",
      "[CV] END .....................C=100, gamma=0.001, kernel=rbf; total time=   0.1s\n",
      "[CV] END .....................C=100, gamma=0.001, kernel=rbf; total time=   0.1s\n",
      "[CV] END .....................C=100, gamma=0.001, kernel=rbf; total time=   0.1s\n",
      "[CV] END .....................C=100, gamma=0.001, kernel=rbf; total time=   0.1s\n",
      "[CV] END ....................C=100, gamma=0.001, kernel=poly; total time=   0.3s\n",
      "[CV] END ....................C=100, gamma=0.001, kernel=poly; total time=   0.3s\n",
      "[CV] END ....................C=100, gamma=0.001, kernel=poly; total time=   0.2s\n",
      "[CV] END ....................C=100, gamma=0.001, kernel=poly; total time=   0.2s\n",
      "[CV] END ....................C=100, gamma=0.001, kernel=poly; total time=   0.2s\n",
      "[CV] END .................C=100, gamma=0.001, kernel=sigmoid; total time=   0.1s\n",
      "[CV] END .................C=100, gamma=0.001, kernel=sigmoid; total time=   0.1s\n",
      "[CV] END .................C=100, gamma=0.001, kernel=sigmoid; total time=   0.1s\n",
      "[CV] END .................C=100, gamma=0.001, kernel=sigmoid; total time=   0.0s\n",
      "[CV] END .................C=100, gamma=0.001, kernel=sigmoid; total time=   0.1s\n"
     ]
    },
    {
     "data": {
      "text/plain": [
       "GridSearchCV(estimator=SVC(),\n",
       "             param_grid={'C': [0.1, 1, 10, 100], 'gamma': [1, 0.1, 0.01, 0.001],\n",
       "                         'kernel': ['rbf', 'poly', 'sigmoid']},\n",
       "             return_train_score=True, verbose=2)"
      ]
     },
     "execution_count": 103,
     "metadata": {},
     "output_type": "execute_result"
    }
   ],
   "source": [
    "# Create a dictionary param_grid for C, gamma and kernel values given below\n",
    "param_grid = {'C': [0.1,1, 10, 100], 'gamma':[1,0.1,0.01,0.001], 'kernel':['rbf', 'poly', 'sigmoid']}\n",
    "#Initialise GridSearchCV with SVC(), param_grid, refit=True and verbose=2 and  return_train_score=True\n",
    "grid = GridSearchCV(SVC(), param_grid=param_grid,refit=True, verbose=2 ,return_train_score=True )\n",
    "#fit Gridsearch on X_train and y_train\n",
    "grid.fit(X_train, y_train)"
   ]
  },
  {
   "cell_type": "code",
   "execution_count": 106,
   "metadata": {
    "id": "DepBfO_3yJDB",
    "outputId": "d9803d7a-c2e1-41be-e725-40322f8ef759"
   },
   "outputs": [
    {
     "name": "stdout",
     "output_type": "stream",
     "text": [
      "    mean_fit_time  std_fit_time  mean_score_time  std_score_time param_C  \\\n",
      "0        0.281135      0.027927         0.158945        0.011180     0.1   \n",
      "1        0.147092      0.031084         0.010010        0.001937     0.1   \n",
      "2        0.119190      0.022435         0.022817        0.002318     0.1   \n",
      "3        0.204002      0.011012         0.126781        0.005831     0.1   \n",
      "4        0.122982      0.010302         0.016425        0.001998     0.1   \n",
      "5        0.117661      0.009744         0.023965        0.002336     0.1   \n",
      "6        0.189458      0.018156         0.111372        0.007538     0.1   \n",
      "7        0.201950      0.016953         0.037984        0.003107     0.1   \n",
      "8        0.173154      0.004677         0.037251        0.002629     0.1   \n",
      "9        0.212251      0.019973         0.134425        0.004428     0.1   \n",
      "10       0.187588      0.019310         0.032458        0.001224     0.1   \n",
      "11       0.260976      0.028349         0.060556        0.010466     0.1   \n",
      "12       0.330737      0.019150         0.166447        0.006668       1   \n",
      "13       0.181655      0.033682         0.011596        0.003127       1   \n",
      "14       0.115745      0.018231         0.021003        0.003672       1   \n",
      "15       0.174583      0.009293         0.095427        0.002829       1   \n",
      "16       0.111545      0.002666         0.013887        0.003781       1   \n",
      "17       0.084590      0.008123         0.017267        0.003887       1   \n",
      "18       0.092170      0.005108         0.051817        0.002820       1   \n",
      "19       0.202024      0.025216         0.038636        0.003158       1   \n",
      "20       0.173863      0.047466         0.035011        0.006293       1   \n",
      "21       0.179319      0.014780         0.102881        0.011834       1   \n",
      "22       0.257616      0.025466         0.049488        0.001426       1   \n",
      "23       0.210609      0.007517         0.045589        0.003055       1   \n",
      "24       0.481982      0.052261         0.216245        0.011977      10   \n",
      "25       0.273014      0.062174         0.012853        0.003204      10   \n",
      "26       0.153313      0.021971         0.028230        0.004044      10   \n",
      "27       0.356279      0.030050         0.113699        0.008839      10   \n",
      "28       0.160039      0.013584         0.013140        0.001080      10   \n",
      "29       0.102196      0.010771         0.019548        0.003824      10   \n",
      "30       0.109183      0.010687         0.048350        0.006239      10   \n",
      "31       0.205290      0.026314         0.040230        0.006197      10   \n",
      "32       0.101719      0.006532         0.020805        0.002469      10   \n",
      "33       0.132259      0.007007         0.066295        0.002571      10   \n",
      "34       0.267179      0.026814         0.054554        0.010295      10   \n",
      "35       0.141282      0.014675         0.025675        0.001333      10   \n",
      "36       0.417371      0.025520         0.204766        0.014706     100   \n",
      "37       0.537703      0.168758         0.015629        0.003712     100   \n",
      "38       0.211417      0.047738         0.040657        0.009282     100   \n",
      "39       0.310569      0.052715         0.131917        0.004099     100   \n",
      "40       0.214710      0.066471         0.015131        0.005995     100   \n",
      "41       0.119008      0.009253         0.018666        0.002419     100   \n",
      "42       0.139569      0.018160         0.043628        0.003509     100   \n",
      "43       0.161372      0.018914         0.027456        0.006028     100   \n",
      "44       0.080202      0.006616         0.013396        0.004892     100   \n",
      "45       0.122664      0.011746         0.050398        0.007803     100   \n",
      "46       0.294390      0.021265         0.055242        0.005180     100   \n",
      "47       0.140497      0.015132         0.024032        0.006751     100   \n",
      "\n",
      "   param_gamma param_kernel                                           params  \\\n",
      "0            1          rbf          {'C': 0.1, 'gamma': 1, 'kernel': 'rbf'}   \n",
      "1            1         poly         {'C': 0.1, 'gamma': 1, 'kernel': 'poly'}   \n",
      "2            1      sigmoid      {'C': 0.1, 'gamma': 1, 'kernel': 'sigmoid'}   \n",
      "3          0.1          rbf        {'C': 0.1, 'gamma': 0.1, 'kernel': 'rbf'}   \n",
      "4          0.1         poly       {'C': 0.1, 'gamma': 0.1, 'kernel': 'poly'}   \n",
      "5          0.1      sigmoid    {'C': 0.1, 'gamma': 0.1, 'kernel': 'sigmoid'}   \n",
      "6         0.01          rbf       {'C': 0.1, 'gamma': 0.01, 'kernel': 'rbf'}   \n",
      "7         0.01         poly      {'C': 0.1, 'gamma': 0.01, 'kernel': 'poly'}   \n",
      "8         0.01      sigmoid   {'C': 0.1, 'gamma': 0.01, 'kernel': 'sigmoid'}   \n",
      "9        0.001          rbf      {'C': 0.1, 'gamma': 0.001, 'kernel': 'rbf'}   \n",
      "10       0.001         poly     {'C': 0.1, 'gamma': 0.001, 'kernel': 'poly'}   \n",
      "11       0.001      sigmoid  {'C': 0.1, 'gamma': 0.001, 'kernel': 'sigmoid'}   \n",
      "12           1          rbf            {'C': 1, 'gamma': 1, 'kernel': 'rbf'}   \n",
      "13           1         poly           {'C': 1, 'gamma': 1, 'kernel': 'poly'}   \n",
      "14           1      sigmoid        {'C': 1, 'gamma': 1, 'kernel': 'sigmoid'}   \n",
      "15         0.1          rbf          {'C': 1, 'gamma': 0.1, 'kernel': 'rbf'}   \n",
      "16         0.1         poly         {'C': 1, 'gamma': 0.1, 'kernel': 'poly'}   \n",
      "17         0.1      sigmoid      {'C': 1, 'gamma': 0.1, 'kernel': 'sigmoid'}   \n",
      "18        0.01          rbf         {'C': 1, 'gamma': 0.01, 'kernel': 'rbf'}   \n",
      "19        0.01         poly        {'C': 1, 'gamma': 0.01, 'kernel': 'poly'}   \n",
      "20        0.01      sigmoid     {'C': 1, 'gamma': 0.01, 'kernel': 'sigmoid'}   \n",
      "21       0.001          rbf        {'C': 1, 'gamma': 0.001, 'kernel': 'rbf'}   \n",
      "22       0.001         poly       {'C': 1, 'gamma': 0.001, 'kernel': 'poly'}   \n",
      "23       0.001      sigmoid    {'C': 1, 'gamma': 0.001, 'kernel': 'sigmoid'}   \n",
      "24           1          rbf           {'C': 10, 'gamma': 1, 'kernel': 'rbf'}   \n",
      "25           1         poly          {'C': 10, 'gamma': 1, 'kernel': 'poly'}   \n",
      "26           1      sigmoid       {'C': 10, 'gamma': 1, 'kernel': 'sigmoid'}   \n",
      "27         0.1          rbf         {'C': 10, 'gamma': 0.1, 'kernel': 'rbf'}   \n",
      "28         0.1         poly        {'C': 10, 'gamma': 0.1, 'kernel': 'poly'}   \n",
      "29         0.1      sigmoid     {'C': 10, 'gamma': 0.1, 'kernel': 'sigmoid'}   \n",
      "30        0.01          rbf        {'C': 10, 'gamma': 0.01, 'kernel': 'rbf'}   \n",
      "31        0.01         poly       {'C': 10, 'gamma': 0.01, 'kernel': 'poly'}   \n",
      "32        0.01      sigmoid    {'C': 10, 'gamma': 0.01, 'kernel': 'sigmoid'}   \n",
      "33       0.001          rbf       {'C': 10, 'gamma': 0.001, 'kernel': 'rbf'}   \n",
      "34       0.001         poly      {'C': 10, 'gamma': 0.001, 'kernel': 'poly'}   \n",
      "35       0.001      sigmoid   {'C': 10, 'gamma': 0.001, 'kernel': 'sigmoid'}   \n",
      "36           1          rbf          {'C': 100, 'gamma': 1, 'kernel': 'rbf'}   \n",
      "37           1         poly         {'C': 100, 'gamma': 1, 'kernel': 'poly'}   \n",
      "38           1      sigmoid      {'C': 100, 'gamma': 1, 'kernel': 'sigmoid'}   \n",
      "39         0.1          rbf        {'C': 100, 'gamma': 0.1, 'kernel': 'rbf'}   \n",
      "40         0.1         poly       {'C': 100, 'gamma': 0.1, 'kernel': 'poly'}   \n",
      "41         0.1      sigmoid    {'C': 100, 'gamma': 0.1, 'kernel': 'sigmoid'}   \n",
      "42        0.01          rbf       {'C': 100, 'gamma': 0.01, 'kernel': 'rbf'}   \n",
      "43        0.01         poly      {'C': 100, 'gamma': 0.01, 'kernel': 'poly'}   \n",
      "44        0.01      sigmoid   {'C': 100, 'gamma': 0.01, 'kernel': 'sigmoid'}   \n",
      "45       0.001          rbf      {'C': 100, 'gamma': 0.001, 'kernel': 'rbf'}   \n",
      "46       0.001         poly     {'C': 100, 'gamma': 0.001, 'kernel': 'poly'}   \n",
      "47       0.001      sigmoid  {'C': 100, 'gamma': 0.001, 'kernel': 'sigmoid'}   \n",
      "\n",
      "    split0_test_score  split1_test_score  ...  mean_test_score  \\\n",
      "0            0.602484           0.605590  ...         0.604037   \n",
      "1            0.913043           0.905280  ...         0.911491   \n",
      "2            0.810559           0.832298  ...         0.805590   \n",
      "3            0.798137           0.809006  ...         0.802484   \n",
      "4            0.869565           0.869565  ...         0.873913   \n",
      "5            0.849379           0.850932  ...         0.856522   \n",
      "6            0.908385           0.886646  ...         0.903106   \n",
      "7            0.622671           0.627329  ...         0.631988   \n",
      "8            0.874224           0.880435  ...         0.879193   \n",
      "9            0.785714           0.768634  ...         0.784161   \n",
      "10           0.600932           0.602484  ...         0.602174   \n",
      "11           0.670807           0.658385  ...         0.672050   \n",
      "12           0.759317           0.760870  ...         0.770807   \n",
      "13           0.895963           0.903727  ...         0.897516   \n",
      "14           0.793478           0.824534  ...         0.803106   \n",
      "15           0.909938           0.895963  ...         0.901242   \n",
      "16           0.916149           0.911491  ...         0.919876   \n",
      "17           0.798137           0.816770  ...         0.816149   \n",
      "18           0.933230           0.920807  ...         0.929193   \n",
      "19           0.694099           0.700311  ...         0.702795   \n",
      "20           0.916149           0.899068  ...         0.910248   \n",
      "21           0.909938           0.894410  ...         0.903106   \n",
      "22           0.600932           0.607143  ...         0.603727   \n",
      "23           0.875776           0.880435  ...         0.879814   \n",
      "24           0.767081           0.763975  ...         0.776087   \n",
      "25           0.881988           0.900621  ...         0.890683   \n",
      "26           0.799689           0.826087  ...         0.799689   \n",
      "27           0.909938           0.906832  ...         0.906832   \n",
      "28           0.927019           0.923913  ...         0.918634   \n",
      "29           0.782609           0.813665  ...         0.808696   \n",
      "30           0.934783           0.931677  ...         0.933540   \n",
      "31           0.796584           0.773292  ...         0.783540   \n",
      "32           0.858696           0.869565  ...         0.878571   \n",
      "33           0.931677           0.916149  ...         0.926708   \n",
      "34           0.605590           0.610248  ...         0.608075   \n",
      "35           0.925466           0.906832  ...         0.918634   \n",
      "36           0.763975           0.765528  ...         0.772981   \n",
      "37           0.875776           0.863354  ...         0.864286   \n",
      "38           0.798137           0.824534  ...         0.803727   \n",
      "39           0.903727           0.897516  ...         0.900311   \n",
      "40           0.913043           0.905280  ...         0.911491   \n",
      "41           0.785714           0.810559  ...         0.808385   \n",
      "42           0.931677           0.922360  ...         0.928261   \n",
      "43           0.869565           0.869565  ...         0.873913   \n",
      "44           0.855590           0.855590  ...         0.864286   \n",
      "45           0.939441           0.927019  ...         0.932609   \n",
      "46           0.622671           0.627329  ...         0.631988   \n",
      "47           0.928571           0.922360  ...         0.920497   \n",
      "\n",
      "    std_test_score  rank_test_score  split0_train_score  split1_train_score  \\\n",
      "0         0.001389               46            0.605978            0.609472   \n",
      "1         0.009870               10            0.995730            0.996118   \n",
      "2         0.018977               31            0.803571            0.802795   \n",
      "3         0.009938               34            0.823758            0.823758   \n",
      "4         0.007440               23            0.917314            0.919643   \n",
      "5         0.008368               27            0.853261            0.848602   \n",
      "6         0.008425               14            0.904891            0.906832   \n",
      "7         0.006804               43            0.637811            0.637422   \n",
      "8         0.007820               21            0.879658            0.877717   \n",
      "9         0.008947               36            0.785326            0.786491   \n",
      "10        0.000621               48            0.602873            0.602096   \n",
      "11        0.008240               42            0.673913            0.673137   \n",
      "12        0.009752               40            0.995342            0.994953   \n",
      "13        0.012187               18            0.997671            0.998447   \n",
      "14        0.015848               33            0.800854            0.799689   \n",
      "15        0.009244               16            0.973991            0.975155   \n",
      "16        0.009033                7            0.973602            0.978261   \n",
      "17        0.010234               28            0.807842            0.802407   \n",
      "18        0.008595                3            0.944488            0.942158   \n",
      "19        0.005777               41            0.717391            0.716227   \n",
      "20        0.007942               12            0.913043            0.908385   \n",
      "21        0.006102               15            0.907220            0.910326   \n",
      "22        0.002060               47            0.605978            0.604037   \n",
      "23        0.007518               20            0.880047            0.879270   \n",
      "24        0.009840               38            0.998059            0.998447   \n",
      "25        0.014652               19            0.998059            0.998447   \n",
      "26        0.021291               35            0.801242            0.800854   \n",
      "27        0.008098               13            0.993401            0.993012   \n",
      "28        0.013161                8            0.991460            0.991071   \n",
      "29        0.014380               29            0.811724            0.801630   \n",
      "30        0.003316                1            0.965062            0.966227   \n",
      "31        0.011351               37            0.802407            0.811335   \n",
      "32        0.013336               22            0.881599            0.876553   \n",
      "33        0.006903                5            0.931289            0.934783   \n",
      "34        0.003197               45            0.611025            0.611025   \n",
      "35        0.008651                8            0.921196            0.922748   \n",
      "36        0.009234               39            0.998447            0.998447   \n",
      "37        0.011436               25            0.998835            0.999224   \n",
      "38        0.015010               32            0.802019            0.801242   \n",
      "39        0.013551               17            0.995730            0.996506   \n",
      "40        0.009870               10            0.995730            0.996118   \n",
      "41        0.012012               30            0.808230            0.803960   \n",
      "42        0.006242                4            0.981366            0.982531   \n",
      "43        0.007440               23            0.917314            0.919643   \n",
      "44        0.008595               25            0.876553            0.868012   \n",
      "45        0.004669                2            0.948758            0.945264   \n",
      "46        0.006804               43            0.637811            0.637422   \n",
      "47        0.009129                6            0.929736            0.928571   \n",
      "\n",
      "    split2_train_score  split3_train_score  split4_train_score  \\\n",
      "0             0.605590            0.605590            0.606366   \n",
      "1             0.994565            0.995342            0.995730   \n",
      "2             0.771351            0.807842            0.772516   \n",
      "3             0.817158            0.832686            0.823758   \n",
      "4             0.914596            0.916925            0.920807   \n",
      "5             0.854037            0.845109            0.852873   \n",
      "6             0.909550            0.908385            0.908385   \n",
      "7             0.636258            0.636258            0.631599   \n",
      "8             0.882376            0.886646            0.883929   \n",
      "9             0.788043            0.790761            0.787655   \n",
      "10            0.602484            0.602873            0.602484   \n",
      "11            0.676630            0.681289            0.669255   \n",
      "12            0.994177            0.994953            0.994177   \n",
      "13            0.996894            0.997283            0.997283   \n",
      "14            0.784938            0.804348            0.767081   \n",
      "15            0.974379            0.975155            0.974767   \n",
      "16            0.971661            0.973991            0.973214   \n",
      "17            0.836568            0.808618            0.830357   \n",
      "18            0.936724            0.942158            0.945264   \n",
      "19            0.713509            0.715450            0.713509   \n",
      "20            0.911102            0.911879            0.907997   \n",
      "21            0.905668            0.909161            0.905280   \n",
      "22            0.605202            0.605590            0.605202   \n",
      "23            0.882376            0.888587            0.885481   \n",
      "24            0.997283            0.997671            0.996894   \n",
      "25            0.997283            0.997671            0.997283   \n",
      "26            0.773680            0.803571            0.767081   \n",
      "27            0.991848            0.991848            0.993012   \n",
      "28            0.990295            0.991848            0.991848   \n",
      "29            0.836180            0.808618            0.827252   \n",
      "30            0.958851            0.967003            0.963898   \n",
      "31            0.807453            0.812112            0.803183   \n",
      "32            0.885093            0.890140            0.879270   \n",
      "33            0.934006            0.935947            0.934006   \n",
      "34            0.609860            0.610637            0.611025   \n",
      "35            0.923525            0.925078            0.921972   \n",
      "36            0.998059            0.998059            0.997283   \n",
      "37            0.998835            0.999224            0.998447   \n",
      "38            0.774845            0.805124            0.779115   \n",
      "39            0.994953            0.995730            0.995730   \n",
      "40            0.994565            0.995342            0.995730   \n",
      "41            0.838509            0.804348            0.827640   \n",
      "42            0.980590            0.982919            0.984084   \n",
      "43            0.914596            0.916925            0.920807   \n",
      "44            0.878106            0.873447            0.873447   \n",
      "45            0.945264            0.947205            0.949146   \n",
      "46            0.636258            0.636258            0.631599   \n",
      "47            0.926242            0.926630            0.930124   \n",
      "\n",
      "    mean_train_score  std_train_score  \n",
      "0           0.606599         0.001465  \n",
      "1           0.995497         0.000527  \n",
      "2           0.791615         0.016166  \n",
      "3           0.824224         0.004943  \n",
      "4           0.917857         0.002177  \n",
      "5           0.850776         0.003407  \n",
      "6           0.907609         0.001610  \n",
      "7           0.635870         0.002223  \n",
      "8           0.882065         0.003138  \n",
      "9           0.787655         0.001821  \n",
      "10          0.602562         0.000291  \n",
      "11          0.674845         0.003994  \n",
      "12          0.994720         0.000466  \n",
      "13          0.997516         0.000527  \n",
      "14          0.791382         0.013849  \n",
      "15          0.974689         0.000453  \n",
      "16          0.974146         0.002204  \n",
      "17          0.817158         0.013626  \n",
      "18          0.942158         0.002987  \n",
      "19          0.715217         0.001525  \n",
      "20          0.910481         0.001973  \n",
      "21          0.907531         0.001955  \n",
      "22          0.605202         0.000650  \n",
      "23          0.883152         0.003472  \n",
      "24          0.997671         0.000549  \n",
      "25          0.997748         0.000453  \n",
      "26          0.789286         0.015604  \n",
      "27          0.992624         0.000650  \n",
      "28          0.991304         0.000581  \n",
      "29          0.817081         0.012706  \n",
      "30          0.964208         0.002878  \n",
      "31          0.807298         0.004009  \n",
      "32          0.882531         0.004726  \n",
      "33          0.934006         0.001533  \n",
      "34          0.610714         0.000453  \n",
      "35          0.922904         0.001336  \n",
      "36          0.998059         0.000425  \n",
      "37          0.998913         0.000291  \n",
      "38          0.792469         0.012785  \n",
      "39          0.995730         0.000491  \n",
      "40          0.995497         0.000527  \n",
      "41          0.816537         0.014013  \n",
      "42          0.982298         0.001218  \n",
      "43          0.917857         0.002177  \n",
      "44          0.873913         0.003458  \n",
      "45          0.947127         0.001654  \n",
      "46          0.635870         0.002223  \n",
      "47          0.928261         0.001580  \n",
      "\n",
      "[48 rows x 23 columns]\n"
     ]
    }
   ],
   "source": [
    "# cv results into a dataframe\n",
    "cv_results = pd.DataFrame(grid.cv_results_)\n",
    "# print cv_result\n",
    "print(cv_results)"
   ]
  },
  {
   "cell_type": "markdown",
   "metadata": {
    "id": "dmWywx7iyJDB"
   },
   "source": [
    "- **High values of gamma** lead to **overfitting** (especially at high values of C); note that the training accuracy at gamma=0.01 and C=1000 reaches almost 99% \n",
    "- The **training score increases with higher gamma**, though the **test scores are comparable** (at sufficiently high cost, i.e. C > 10)\n",
    "- The least amount of overfitting (i.e. difference between train and test accuracy) occurs at low gamma, i.e. a quite *simple non-linear model*\n"
   ]
  },
  {
   "cell_type": "code",
   "execution_count": 107,
   "metadata": {
    "id": "wdS1cmR9yJDB",
    "outputId": "24f1bd6a-f024-496e-d785-d78f5c86005f"
   },
   "outputs": [
    {
     "name": "stdout",
     "output_type": "stream",
     "text": [
      "The best test score is 0.9335403726708075 corresponding to hyperparameters {'C': 10, 'gamma': 0.01, 'kernel': 'rbf'}\n"
     ]
    }
   ],
   "source": [
    "# get the optimal accuracy score and hyperparameters\n",
    "best_score = grid.best_score_\n",
    "# get the optimal hyperparameters\n",
    "best_hyperparams = grid.best_params_\n",
    "\n",
    "print(\"The best test score is {0} corresponding to hyperparameters {1}\".format(best_score, best_hyperparams))"
   ]
  },
  {
   "cell_type": "markdown",
   "metadata": {
    "id": "j6YQZzZWyJDB"
   },
   "source": [
    "Though sklearn suggests the optimal scores mentioned above (gamma=0.001, C=100, kernel=rbf), one could argue that it is better to choose a simpler, more non-linear model with gamma=0.0001. This is because the optimal values mentioned here are calculated based on the average test accuracy (but not considering subjective parameters such as model complexity).\n",
    "\n",
    "We can achieve comparable average test accuracy (~92.5%) with gamma=0.0001 as well, though we'll have to increase the cost C for that. So to achieve high accuracy, there's a tradeoff between:\n",
    "- High gamma (i.e. high non-linearity) and average value of C\n",
    "- Low gamma (i.e. less non-linearity) and high value of C\n",
    "\n",
    "We argue that the model will be simpler if it has as less non-linearity as possible, so we choose gamma=0.0001 and a high C=100."
   ]
  },
  {
   "cell_type": "markdown",
   "metadata": {
    "id": "JCxxGQPTyJDB"
   },
   "source": [
    "### Building and Evaluating the Final Model\n",
    "\n",
    "Let's now build and evaluate the final model, i.e. the model with highest test accuracy."
   ]
  },
  {
   "cell_type": "code",
   "execution_count": 117,
   "metadata": {
    "id": "ofAAoZJVyJDC",
    "outputId": "25605890-ae44-4b51-a074-d4b5c6d0586d"
   },
   "outputs": [
    {
     "name": "stdout",
     "output_type": "stream",
     "text": [
      "0.9348298334540188\n"
     ]
    }
   ],
   "source": [
    "# model with optimal hyperparameters as obtained above\n",
    "model =SVC(C=10, gamma=0.01)\n",
    "#fit model on training data\n",
    "model.fit(X_train, y_train)\n",
    "# predict on test data\n",
    "y_pred = model.predict(X_test)\n",
    "# print accuracy\n",
    "print(metrics.accuracy_score(y_test, y_pred))"
   ]
  },
  {
   "cell_type": "code",
   "execution_count": 119,
   "metadata": {},
   "outputs": [
    {
     "name": "stdout",
     "output_type": "stream",
     "text": [
      "[[812  37]\n",
      " [ 53 479]]\n"
     ]
    },
    {
     "data": {
      "image/png": "[encoded data removed]",
      "text/plain": [
       "<Figure size 640x480 with 2 Axes>"
      ]
     },
     "metadata": {},
     "output_type": "display_data"
    }
   ],
   "source": [
    "# print confusion metrics\n",
    "print(confusion_matrix(y_test, y_pred))\n",
    "#plotting confusion matrix\n",
    "cm = confusion_matrix(y_test, y_pred, labels=model.classes_)\n",
    "disp = ConfusionMatrixDisplay(confusion_matrix=cm,display_labels=model.classes_)\n",
    "disp.plot()\n",
    "plt.show()"
   ]
  },
  {
   "cell_type": "code",
   "execution_count": 120,
   "metadata": {},
   "outputs": [
    {
     "name": "stdout",
     "output_type": "stream",
     "text": [
      "              precision    recall  f1-score   support\n",
      "\n",
      "           0       0.94      0.96      0.95       849\n",
      "           1       0.93      0.90      0.91       532\n",
      "\n",
      "    accuracy                           0.93      1381\n",
      "   macro avg       0.93      0.93      0.93      1381\n",
      "weighted avg       0.93      0.93      0.93      1381\n",
      "\n"
     ]
    }
   ],
   "source": [
    "#Classfication report\n",
    "print(metrics.classification_report(y_test, y_pred))"
   ]
  },
  {
   "cell_type": "markdown",
   "metadata": {
    "id": "naiYFfrhyJDC"
   },
   "source": [
    "we've improved our model by reduced type1 and type 2 errors after hyperparameter tuning."
   ]
  }
 ],
 "metadata": {
  "colab": {
   "collapsed_sections": [
    "UW59fZh5yJC8",
    "TN3JPD2VyJC9"
   ],
   "provenance": []
  },
  "kernelspec": {
   "display_name": "Python 3 (ipykernel)",
   "language": "python",
   "name": "python3"
  },
  "language_info": {
   "codemirror_mode": {
    "name": "ipython",
    "version": 3
   },
   "file_extension": ".py",
   "mimetype": "text/x-python",
   "name": "python",
   "nbconvert_exporter": "python",
   "pygments_lexer": "ipython3",
   "version": "3.9.13"
  }
 },
 "nbformat": 4,
 "nbformat_minor": 4
}
